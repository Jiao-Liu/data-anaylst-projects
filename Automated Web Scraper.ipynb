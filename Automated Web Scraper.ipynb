{
 "cells": [
  {
   "cell_type": "code",
   "execution_count": 78,
   "id": "4fb66b8e-987d-421b-ac87-6c9b9051507b",
   "metadata": {},
   "outputs": [],
   "source": [
    "from bs4 import BeautifulSoup\n",
    "import requests\n",
    "import pandas as pd \n",
    "from datetime import datetime\n",
    "import os \n",
    "import time "
   ]
  },
  {
   "cell_type": "code",
   "execution_count": 84,
   "id": "4831f81b-ac92-4eed-bed5-0589c25c5a63",
   "metadata": {},
   "outputs": [],
   "source": [
    "def automated_crypto_pull():\n",
    "    url = 'https://coinmarketcap.com/currencies/bitcoin/'\n",
    "\n",
    "    page = requests.get(url)\n",
    "\n",
    "    soup = BeautifulSoup(page.text, 'html')\n",
    "\n",
    "    crypto_name = soup.find('span' ,'sc-65e7f566-0 lsTl').text.replace('price\\xa0','')\n",
    "\n",
    "    price = soup.find('span','sc-65e7f566-0 clvjgF base-text').text.replace('$','')\n",
    "\n",
    "    date_time = datetime.now()\n",
    "    \n",
    "    dict = {'Crypto Name' : crypto_name,\n",
    "        'Price':price,\n",
    "        'TimeStamp': date_time}\n",
    "    df = pd.DataFrame([dict])\n",
    "    if os.path.exists(r'/Users/jiaoliu/Documents/数分学习/alex/Python/automated_web_scraper.csv'):\n",
    "        df.to_csv(r'/Users/jiaoliu/Documents/数分学习/alex/Python/automated_web_scraper.csv',mode='a',header = False, index = False)\n",
    "    else: \n",
    "        df.to_csv(r'/Users/jiaoliu/Documents/数分学习/alex/Python/automated_web_scraper.csv', index = False)\n",
    "    df"
   ]
  },
  {
   "cell_type": "code",
   "execution_count": 86,
   "id": "78fe247b-6ab6-4426-bea4-d5cea8b33b17",
   "metadata": {},
   "outputs": [],
   "source": [
    "automated_crypto_pull()"
   ]
  },
  {
   "cell_type": "code",
   "execution_count": 52,
   "id": "82f18908-cc76-41f3-813f-f41e81eabdc7",
   "metadata": {},
   "outputs": [],
   "source": [
    "while True:\n",
    "    automated_crypto_pull()\n",
    "    time.sleep(3600)"
   ]
  },
  {
   "cell_type": "code",
   "execution_count": 72,
   "id": "51a7637d-afc0-4a79-82fa-3b5badd43379",
   "metadata": {},
   "outputs": [],
   "source": [
    "\n",
    "    \n",
    " "
   ]
  },
  {
   "cell_type": "code",
   "execution_count": null,
   "id": "0b852d40-67cd-419e-a0d1-dae9133aa5f0",
   "metadata": {},
   "outputs": [],
   "source": []
  },
  {
   "cell_type": "code",
   "execution_count": null,
   "id": "b1292a61-e0ba-4a53-a358-df0763862ee5",
   "metadata": {},
   "outputs": [],
   "source": []
  },
  {
   "cell_type": "code",
   "execution_count": null,
   "id": "65f9d637-1cea-4bae-91f4-d2bd1269d37a",
   "metadata": {},
   "outputs": [],
   "source": []
  },
  {
   "cell_type": "code",
   "execution_count": null,
   "id": "c75fd310-9678-41c6-ab13-dc79a75c5d24",
   "metadata": {},
   "outputs": [],
   "source": []
  },
  {
   "cell_type": "code",
   "execution_count": null,
   "id": "dd103d7c-f9a8-4931-9f04-792e1788c89e",
   "metadata": {},
   "outputs": [],
   "source": []
  }
 ],
 "metadata": {
  "kernelspec": {
   "display_name": "Python 3 (ipykernel)",
   "language": "python",
   "name": "python3"
  },
  "language_info": {
   "codemirror_mode": {
    "name": "ipython",
    "version": 3
   },
   "file_extension": ".py",
   "mimetype": "text/x-python",
   "name": "python",
   "nbconvert_exporter": "python",
   "pygments_lexer": "ipython3",
   "version": "3.12.4"
  }
 },
 "nbformat": 4,
 "nbformat_minor": 5
}
